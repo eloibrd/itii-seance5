{
 "cells": [
  {
   "cell_type": "markdown",
   "metadata": {},
   "source": [
    "Ex1:\n",
    "    \n",
    "1. Ecrire une fonction qui prend en entrée une fonction f et des réels a et h et donne en sortie le taux de variation (ou d'accroissement) de la fonction f entre le point d'abscisse a+h et a.\n",
    "2. Tester avec f(x)=3x^3+1x^2-5"
   ]
  },
  {
   "cell_type": "code",
   "execution_count": 14,
   "metadata": {},
   "outputs": [
    {
     "name": "stdout",
     "output_type": "stream",
     "text": [
      "1220.0\n"
     ]
    }
   ],
   "source": [
    "import numpy\n",
    "\n",
    "def tauxdevariation(fn, a, h):\n",
    "    taux = (fn(a+h)-fn(a))/h\n",
    "    return taux\n",
    "\n",
    "def fn(x):\n",
    "    return 3*pow(x, 3) + 1*pow(x, 2) - 5\n",
    "\n",
    "print(tauxdevariation(fn, 10, 3))"
   ]
  },
  {
   "cell_type": "markdown",
   "metadata": {},
   "source": [
    "Ex2:\n",
    "1. Ecrire une fonction qui calcule la liste des coefficients directeurs pour une fonction f définit sur I=[a;b] avec un pas \"p\"\n",
    "2. Tester avec f(x)=(1+x)/(x-4) définit sur I=[0,1] avec un pas de 0.01"
   ]
  },
  {
   "cell_type": "code",
   "execution_count": 6,
   "metadata": {},
   "outputs": [
    {
     "name": "stdout",
     "output_type": "stream",
     "text": [
      "[-0.25, -0.2531328320802005, -0.2562814070351759, -0.2594458438287154, -0.26262626262626265, -0.26582278481012656, -0.2690355329949239, -0.272264631043257, -0.2755102040816327, -0.27877237851662406, -0.2820512820512821, -0.2853470437017995, -0.288659793814433, -0.2919896640826873, -0.2953367875647669, -0.2987012987012987, -0.3020833333333333, -0.3054830287206266, -0.3089005235602094, -0.3123359580052493, -0.3157894736842105, -0.31926121372031663, -0.32275132275132273, -0.32625994694960214, -0.3297872340425532, -0.3333333333333333, -0.3368983957219251, -0.34048257372654156, -0.34408602150537637, -0.3477088948787062, -0.35135135135135137, -0.3550135501355014, -0.358695652173913, -0.36239782016348776, -0.366120218579235, -0.36986301369863017, -0.3736263736263736, -0.37741046831955927, -0.38121546961325964, -0.38504155124653744, -0.38888888888888884, -0.392757660167131, -0.3966480446927374, -0.4005602240896359, -0.4044943820224719, -0.4084507042253521, -0.4124293785310734, -0.4164305949008499, -0.42045454545454547, -0.42450142450142453, -0.42857142857142855, -0.43266475644699137, -0.4367816091954023, -0.4409221902017291, -0.44508670520231214, -0.4492753623188406, -0.4534883720930233, -0.45772594752186596, -0.4619883040935673, -0.46627565982404684, -0.4705882352941177, -0.47492625368731556, -0.4792899408284024, -0.48367952522255186, -0.48809523809523814, -0.4925373134328358, -0.4970059880239522, -0.5015015015015015, -0.5060240963855422, -0.5105740181268882, -0.5151515151515152, -0.5197568389057751, -0.5243902439024389, -0.5290519877675841, -0.5337423312883436, -0.5384615384615384, -0.5432098765432098, -0.5479876160990712, -0.5527950310559007, -0.5576323987538941, -0.5625, -0.5673981191222571, -0.5723270440251573, -0.5772870662460569, -0.5822784810126581, -0.5873015873015873, -0.5923566878980892, -0.5974440894568691, -0.6025641025641025, -0.6077170418006431, -0.6129032258064515, -0.6181229773462784, -0.6233766233766234, -0.6286644951140066, -0.6339869281045751, -0.639344262295082, -0.6447368421052632, -0.6501650165016502, -0.6556291390728477, -0.6611295681063123]\n"
     ]
    }
   ],
   "source": [
    "import numpy\n",
    "\n",
    "def coefdirecteur(fn, a, b,p):\n",
    "    coef = []\n",
    "    # on ajoute à la liste le coef directeur entre l'intervall avec un pas p\n",
    "    for i in numpy.arange(a,b,p):\n",
    "        # on ajoute le coef à la liste\n",
    "        coef.append(fn(i))\n",
    "\n",
    "    return coef\n",
    "\n",
    "def fn(x):\n",
    "    return (1+x)/(x-4)\n",
    "\n",
    "print(coefdirecteur(fn, 0, 1, 0.01))"
   ]
  },
  {
   "cell_type": "markdown",
   "metadata": {},
   "source": [
    "Ex3:\n",
    "on considère une suite U définie par Un+1=Un+n+1 et de premier terme U0. Ecrire une fonction qui prend en entrée les valeurs de n et U0 et affiche la valeur de Un.\n",
    "1. De facon iterative\n",
    "2. Par recurence"
   ]
  },
  {
   "cell_type": "code",
   "execution_count": 13,
   "metadata": {},
   "outputs": [
    {
     "name": "stdout",
     "output_type": "stream",
     "text": [
      "67\n",
      "67\n"
     ]
    }
   ],
   "source": [
    "def f(n):\n",
    "  return n + 1\n",
    "\n",
    "def iterative(n, u):\n",
    "  result = u\n",
    "  for i in range(1, n+1):\n",
    "    result += f(i)\n",
    "  return result\n",
    "\n",
    "def recursive(n, u):\n",
    "  if n == 0:\n",
    "    return u\n",
    "  else:\n",
    "    return recursive(n-1, u) + n + 1\n",
    "\n",
    "print(recursive(10, 2))\n",
    "print(iterative(10, 2))"
   ]
  },
  {
   "cell_type": "markdown",
   "metadata": {},
   "source": [
    "Ex4:\n",
    "On pose Tn=n^2−(n−1)^2 ainsi que Sn=T1+T2+T3+...+Tn.\n",
    "1. Etant donné n, afficher la valeur de Sn."
   ]
  },
  {
   "cell_type": "code",
   "execution_count": 11,
   "metadata": {},
   "outputs": [
    {
     "name": "stdout",
     "output_type": "stream",
     "text": [
      "25\n"
     ]
    }
   ],
   "source": [
    "import numpy\n",
    "\n",
    "def T(n):\n",
    "    return (n**2-((n-1)**2))\n",
    "\n",
    "def S(n):\n",
    "    res = 0\n",
    "    for i in range(1, n+1):\n",
    "        res = res + T(i)\n",
    "    return res\n",
    "\n",
    "print(S(5))"
   ]
  },
  {
   "cell_type": "markdown",
   "metadata": {},
   "source": [
    "Ex5:\n",
    "Soit la suite définie par Un+1=0.5.Un et de premier terme U0. Plus la valeur de n augmente, plus les valeurs de Un se rapprochent de 0.\n",
    "\n",
    "Ecrire une fonction qui permet de déterminer pour un réel positif e donné, quel est le plus petit entier n tel que la valeur de Un soit inférieure à e.\n"
   ]
  },
  {
   "cell_type": "code",
   "execution_count": 7,
   "metadata": {},
   "outputs": [
    {
     "name": "stdout",
     "output_type": "stream",
     "text": [
      "U0 = 30\n",
      "U1 = 15.0\n",
      "U2 = 7.5\n",
      "U3 = 3.75\n",
      "U4 = 1.875\n",
      "4\n"
     ]
    }
   ],
   "source": [
    "def determiner(e, u0):\n",
    "    b = 1;\n",
    "    un = u0\n",
    "    n = 0;\n",
    "    while ( b == 1 ):\n",
    "        print(\"U\"+str(n)+\" = \"+str(un))\n",
    "        if(un < e):\n",
    "            b = 0\n",
    "        else:\n",
    "            n+=1\n",
    "            un = uN(un)\n",
    "\n",
    "    return n;\n",
    "\n",
    "def uN(un):\n",
    "    return 0.5*un\n",
    "\n",
    "print(determiner(3,30))"
   ]
  },
  {
   "cell_type": "markdown",
   "metadata": {},
   "source": [
    "Ex6: Constante K de Catalan : https://fr.wikipedia.org/wiki/Constante_de_Catalan\n",
    "Ecrire une fonction qui permet de retourner une valeur approchée de la constante K et en s’arrêtant dès que la valeur absolue de la différence entre deux somme successives devienne inférieure ou égale à une erreur epsilon donnée en paramètre.\n",
    "\n"
   ]
  },
  {
   "cell_type": "code",
   "execution_count": 3,
   "metadata": {},
   "outputs": [
    {
     "name": "stdout",
     "output_type": "stream",
     "text": [
      "0.9288888888888889\n"
     ]
    }
   ],
   "source": [
    "def val_app(epsilon):\n",
    "    elm1=1\n",
    "    elm2=elm1-1/(3**2)\n",
    "    signe=1\n",
    "    val=5\n",
    "    while abs(elm2-elm1)>epsilon:\n",
    "       elm1=elm2\n",
    "       elm2=elm1+signe*(1/(val**2))\n",
    "       val+=2\n",
    "       signe*=(-1)\n",
    "    return elm2\n",
    "\n",
    "print(val_app(0.05))"
   ]
  },
  {
   "cell_type": "markdown",
   "metadata": {},
   "source": [
    "Ex 7:\n",
    "Ecrivez une fonction permettant de calculer la limite à epsilon près de la suite définie par la relation de récurrence :\n",
    "\n",
    "U0 =2\n",
    "Un+1= Un + 2/Un  , n>0.\n",
    "\n",
    "On arrête d’itérer quand l’intervalle entre 2 termes consécutifs devient strictement inférieur à epsilon."
   ]
  },
  {
   "cell_type": "code",
   "execution_count": 8,
   "outputs": [
    {
     "name": "stdout",
     "output_type": "stream",
     "text": [
      "40.07875060343533\n"
     ]
    }
   ],
   "source": [
    "def limite(epsilon):\n",
    "    U0 = 2\n",
    "    Un = U0+2/U0\n",
    "    while abs(Un-U0) > epsilon:\n",
    "        U0 = Un\n",
    "        Un = U0+2/U0\n",
    "    return Un\n",
    "\n",
    "print(limite(0.05))"
   ],
   "metadata": {
    "collapsed": false,
    "pycharm": {
     "name": "#%%\n"
    }
   }
  }
 ],
 "metadata": {
  "kernelspec": {
   "name": "pycharm-ddb0f5b6",
   "language": "python",
   "display_name": "PyCharm (itii-seance5)"
  },
  "language_info": {
   "codemirror_mode": {
    "name": "ipython",
    "version": 3
   },
   "file_extension": ".py",
   "mimetype": "text/x-python",
   "name": "python",
   "nbconvert_exporter": "python",
   "pygments_lexer": "ipython3",
   "version": "3.7.6"
  }
 },
 "nbformat": 4,
 "nbformat_minor": 4
}